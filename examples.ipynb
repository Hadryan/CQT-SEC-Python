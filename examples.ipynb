{
 "cells": [
  {
   "cell_type": "markdown",
   "metadata": {},
   "source": [
    "# Examples"
   ]
  },
  {
   "cell_type": "markdown",
   "metadata": {},
   "source": [
    "This Jupyter notebook shows some examples for the different functions of the Python module `cqtsec`.\n",
    "\n",
    "Functions:\n",
    "- [`mfcc`](#mfcc) - Compute the mel-frequency cepstral coefficients (MFCCs) using librosa..\n",
    "- [`cqtspectrogram`](#cqt) - Compute the magnitude constant-Q transform (CQT) spectrogram using librosa.\n",
    "- [`cqtdeconv`](#cqtdeconv) - Compute the pitch-independent spectral envelope and the energy-normalized pitch component from the CQT spectrogram.\n",
    "- [`cqtsec`](#cqtsec) - Compute the CQT spectral envelope coefficients (CQT-SEC).\n",
    "\n",
    "\n",
    "Author:\n",
    "- Zafar Rafii\n",
    "- zafarrafii@gmail.com\n",
    "- http://zafarrafii.com\n",
    "- https://github.com/zafarrafii\n",
    "- https://www.linkedin.com/in/zafarrafii/\n",
    "- 08/09/21"
   ]
  },
  {
   "cell_type": "markdown",
   "metadata": {},
   "source": [
    "## <a id=\"mfcc\"></a>mfcc"
   ]
  },
  {
   "cell_type": "markdown",
   "metadata": {},
   "source": [
    "Compute the mel-frequency cepstral coefficients (MFCCs) using librosa.\n",
    "\n",
    "```\n",
    "audio_mfcc = cqtsec.mfcc(audio_signal, sampling_frequency, window_length, step_length, number_coefficients)\n",
    "\n",
    "Inputs:\n",
    "    audio_signal: audio signal (number_samples,)\n",
    "    sampling_frequency: sampling frequency in Hz\n",
    "    window_length: window length in samples\n",
    "    step_length: step length in samples\n",
    "    number_coefficients: number of MFCCs (default: 20 coefficients)\n",
    "Output:\n",
    "    audio_mfcc: audio MFCCs (number_coefficients, number_frames)\n",
    "```"
   ]
  },
  {
   "cell_type": "markdown",
   "metadata": {},
   "source": [
    "### Example: Compute the MFCCs from an audio file."
   ]
  },
  {
   "cell_type": "code",
   "execution_count": 1,
   "metadata": {},
   "outputs": [
    {
     "data": {
      "image/png": "[encoded data removed]",
      "text/plain": [
       "<Figure size 1008x288 with 1 Axes>"
      ]
     },
     "metadata": {
      "needs_background": "light"
     },
     "output_type": "display_data"
    }
   ],
   "source": [
    "%matplotlib inline\n",
    "\n",
    "# Import the modules\n",
    "import os\n",
    "import numpy as np\n",
    "import librosa\n",
    "import librosa.display\n",
    "import cqtsec\n",
    "import matplotlib.pyplot as plt\n",
    "\n",
    "# Load the audio signal\n",
    "file_path = r'bass_acoustic_000-036-075.wav'\n",
    "audio_signal, sampling_frequency = librosa.load(file_path, sr=None, mono=True)\n",
    "\n",
    "# Define the parameters and compute the MFCCs\n",
    "window_length = pow(2, int(np.ceil(np.log2(0.04 * sampling_frequency))))\n",
    "step_length = int(window_length / 2)\n",
    "number_coefficients = 20\n",
    "audio_mfcc = cqtsec.mfcc(audio_signal, sampling_frequency, window_length, step_length, number_coefficients)\n",
    "\n",
    "# Display the MFCCs\n",
    "plt.figure(figsize=(14, 4))\n",
    "librosa.display.specshow(audio_mfcc, x_axis='time', sr=sampling_frequency, hop_length=step_length, cmap='jet')\n",
    "plt.title('MFCCs')\n",
    "plt.ylabel('Coefficients')\n",
    "plt.tight_layout()\n",
    "plt.show()"
   ]
  },
  {
   "cell_type": "markdown",
   "metadata": {},
   "source": [
    "## <a id=\"cqt\"></a>cqtspectrogram"
   ]
  },
  {
   "cell_type": "markdown",
   "metadata": {},
   "source": [
    "Compute the magnitude constant-Q transform (CQT) spectrogram using librosa.\n",
    "\n",
    "```\n",
    "cqt_spectrogram = cqtspectrogram(audio_signal, sampling_frequency, step_length, minimum_frequency, octave_resolution)\n",
    "\n",
    "Inputs:\n",
    "    audio_signal: audio signal (number_samples,)\n",
    "    sampling_frequency: sampling frequency in Hz\n",
    "    step_length: step length in samples\n",
    "    minimum_frequency: minimum frequency in Hz (default: 32.70 Hz = C1)\n",
    "    octave_resolution: number of frequency channels per octave (default: 12 frequency channels per octave)\n",
    "Output:\n",
    "    cqt_spectrogram: magnitude CQT spectrogram (number_frequencies, number_frames)\n",
    "```"
   ]
  },
  {
   "cell_type": "code",
   "execution_count": null,
   "metadata": {},
   "outputs": [],
   "source": [
    "%matplotlib inline\n",
    "\n",
    "# Import the modules\n",
    "import os\n",
    "import numpy as np\n",
    "import librosa\n",
    "import librosa.display\n",
    "import cqtsec\n",
    "import matplotlib.pyplot as plt\n",
    "\n",
    "# Load the audio signal\n",
    "file_path = r'bass_acoustic_000-036-075.wav'\n",
    "audio_signal, sampling_frequency = librosa.load(file_path, sr=None, mono=True)\n",
    "\n",
    "# Define the parameters and compute the CQT spectrogram\n",
    "window_length = pow(2, int(np.ceil(np.log2(0.04 * sampling_frequency))))\n",
    "step_length = int(window_length / 2)\n",
    "number_coefficients = 20\n",
    "audio_mfcc = cqtsec.mfcc(audio_signal, sampling_frequency, window_length, step_length, number_coefficients)\n",
    "\n",
    "# Display the CQT spectrogram\n",
    "# HERE!!!\n",
    "plt.figure(figsize=(14, 4))\n",
    "librosa.display.specshow(audio_mfcc, x_axis='time', sr=sampling_frequency, hop_length=step_length, cmap='jet')\n",
    "plt.title('MFCCs')\n",
    "plt.ylabel('Coefficients')\n",
    "plt.tight_layout()\n",
    "plt.show()"
   ]
  },
  {
   "cell_type": "code",
   "execution_count": null,
   "metadata": {},
   "outputs": [],
   "source": []
  }
 ],
 "metadata": {
  "kernelspec": {
   "display_name": "Python 3",
   "language": "python",
   "name": "python3"
  },
  "language_info": {
   "codemirror_mode": {
    "name": "ipython",
    "version": 3
   },
   "file_extension": ".py",
   "mimetype": "text/x-python",
   "name": "python",
   "nbconvert_exporter": "python",
   "pygments_lexer": "ipython3",
   "version": "3.8.5"
  }
 },
 "nbformat": 4,
 "nbformat_minor": 4
}
